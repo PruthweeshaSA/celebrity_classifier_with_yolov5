{
 "cells": [
  {
   "cell_type": "code",
   "execution_count": 10,
   "id": "7683b3d8",
   "metadata": {},
   "outputs": [],
   "source": [
    "import os"
   ]
  },
  {
   "cell_type": "code",
   "execution_count": 11,
   "id": "579ace44",
   "metadata": {},
   "outputs": [
    {
     "data": {
      "text/plain": [
       "1410"
      ]
     },
     "execution_count": 11,
     "metadata": {},
     "output_type": "execute_result"
    }
   ],
   "source": [
    "clean_images = set(os.listdir(\"./yolo_dataset/box_visualizations\"))\n",
    "len(clean_images)"
   ]
  },
  {
   "cell_type": "code",
   "execution_count": 12,
   "id": "ae0037a8",
   "metadata": {},
   "outputs": [],
   "source": [
    "target_folder = \"./yolo_dataset/images\"\n",
    "target_labels_folder = \"./yolo_dataset/labels\"\n",
    "for image_name in os.listdir(target_folder):\n",
    "    if image_name in clean_images or image_name.startswith(\"__\"):\n",
    "        continue\n",
    "    os.remove(os.path.join(target_folder,image_name))\n",
    "    os.remove(os.path.join(target_labels_folder,\n",
    "                           image_name.replace(\".jpg\",\".txt\").replace(\".jpeg\",\".txt\").replace(\".png\",\".txt\")))"
   ]
  },
  {
   "cell_type": "code",
   "execution_count": 13,
   "id": "efc2a40b",
   "metadata": {},
   "outputs": [
    {
     "data": {
      "text/plain": [
       "['_Generic Face',\n",
       " 'Brad Pitt',\n",
       " 'Denzel Washington',\n",
       " 'Hugh Jackman',\n",
       " 'Kate Winslet',\n",
       " 'Leonardo DiCaprio',\n",
       " 'Scarlett Johansson',\n",
       " 'Tom Cruise',\n",
       " 'Tom Hanks']"
      ]
     },
     "execution_count": 13,
     "metadata": {},
     "output_type": "execute_result"
    }
   ],
   "source": [
    "import os\n",
    "from tqdm import tqdm\n",
    "\n",
    "# Paths\n",
    "dataset_root = 'CelebrityFacesDataset_Curated'\n",
    "output_root = 'yolo_dataset'\n",
    "image_output_dir = os.path.join(output_root, 'images')\n",
    "label_output_dir = os.path.join(output_root, 'labels')\n",
    "visual_output_dir = os.path.join(output_root, 'box_visualizations')\n",
    "\n",
    "\n",
    "# Build class index\n",
    "celebrity_names = sorted([d for d in os.listdir(dataset_root) if os.path.isdir(os.path.join(dataset_root, d)) and not d.startswith('_')])\n",
    "celebrity_names = sorted([d for d in os.listdir(dataset_root) if os.path.isdir(os.path.join(dataset_root, d)) and d.startswith('_')], reverse=True) + celebrity_names\n",
    "celebrity_names.remove('__No Face')\n",
    "celebrity_names"
   ]
  },
  {
   "cell_type": "code",
   "execution_count": 14,
   "id": "591e8c35",
   "metadata": {},
   "outputs": [
    {
     "data": {
      "text/plain": [
       "(2060, 2060)"
      ]
     },
     "execution_count": 14,
     "metadata": {},
     "output_type": "execute_result"
    }
   ],
   "source": [
    "len(os.listdir(image_output_dir)), len(os.listdir(label_output_dir))"
   ]
  },
  {
   "cell_type": "code",
   "execution_count": 15,
   "id": "7482e2f1",
   "metadata": {},
   "outputs": [
    {
     "data": {
      "text/plain": [
       "[(0, '_Generic Face'),\n",
       " (1, 'Brad Pitt'),\n",
       " (2, 'Denzel Washington'),\n",
       " (3, 'Hugh Jackman'),\n",
       " (4, 'Kate Winslet'),\n",
       " (5, 'Leonardo DiCaprio'),\n",
       " (6, 'Scarlett Johansson'),\n",
       " (7, 'Tom Cruise'),\n",
       " (8, 'Tom Hanks')]"
      ]
     },
     "execution_count": 15,
     "metadata": {},
     "output_type": "execute_result"
    }
   ],
   "source": [
    "list(enumerate(celebrity_names))"
   ]
  },
  {
   "cell_type": "code",
   "execution_count": null,
   "id": "d1dfab8a",
   "metadata": {},
   "outputs": [],
   "source": []
  }
 ],
 "metadata": {
  "kernelspec": {
   "display_name": "Python 3",
   "language": "python",
   "name": "python3"
  },
  "language_info": {
   "codemirror_mode": {
    "name": "ipython",
    "version": 3
   },
   "file_extension": ".py",
   "mimetype": "text/x-python",
   "name": "python",
   "nbconvert_exporter": "python",
   "pygments_lexer": "ipython3",
   "version": "3.12.6"
  }
 },
 "nbformat": 4,
 "nbformat_minor": 5
}
