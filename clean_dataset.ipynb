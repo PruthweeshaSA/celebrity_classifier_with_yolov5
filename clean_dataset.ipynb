{
 "cells": [
  {
   "cell_type": "code",
   "execution_count": 1,
   "id": "7683b3d8",
   "metadata": {},
   "outputs": [],
   "source": [
    "import os"
   ]
  },
  {
   "cell_type": "code",
   "execution_count": 2,
   "id": "579ace44",
   "metadata": {},
   "outputs": [
    {
     "data": {
      "text/plain": [
       "(2438, 494)"
      ]
     },
     "execution_count": 2,
     "metadata": {},
     "output_type": "execute_result"
    }
   ],
   "source": [
    "clean_train_images = set(os.listdir(\"./yolo_dataset/train/box_visualizations\")) \n",
    "clean_val_images = set(os.listdir(\"./yolo_dataset/val/box_visualizations\"))\n",
    "len(clean_train_images),len(clean_val_images)"
   ]
  },
  {
   "cell_type": "code",
   "execution_count": 3,
   "id": "ae0037a8",
   "metadata": {},
   "outputs": [],
   "source": [
    "target_folder = \"./yolo_dataset/train/images\"\n",
    "target_labels_folder = \"./yolo_dataset/train/labels\"\n",
    "for image_name in os.listdir(target_folder):\n",
    "    if image_name in clean_train_images or image_name.startswith(\"__\"):\n",
    "        continue\n",
    "    os.remove(os.path.join(target_folder,image_name))\n",
    "    os.remove(os.path.join(target_labels_folder,\n",
    "                           image_name.replace(\".jpg\",\".txt\").replace(\".jpeg\",\".txt\").replace(\".png\",\".txt\")))"
   ]
  },
  {
   "cell_type": "code",
   "execution_count": 4,
   "id": "a1993bd5",
   "metadata": {},
   "outputs": [],
   "source": [
    "target_folder = \"./yolo_dataset/val/images\"\n",
    "target_labels_folder = \"./yolo_dataset/val/labels\"\n",
    "for image_name in os.listdir(target_folder):\n",
    "    if image_name in clean_val_images or image_name.startswith(\"__\"):\n",
    "        continue\n",
    "    os.remove(os.path.join(target_folder,image_name))\n",
    "    os.remove(os.path.join(target_labels_folder,\n",
    "                           image_name.replace(\".jpg\",\".txt\").replace(\".jpeg\",\".txt\").replace(\".png\",\".txt\")))"
   ]
  },
  {
   "cell_type": "code",
   "execution_count": 5,
   "id": "efc2a40b",
   "metadata": {},
   "outputs": [
    {
     "data": {
      "text/plain": [
       "['_GenericFace',\n",
       " 'BradPitt',\n",
       " 'DenzelWashington',\n",
       " 'HughJackman',\n",
       " 'KateWinslet',\n",
       " 'LeonardoDiCaprio',\n",
       " 'ScarlettJohansson',\n",
       " 'TomCruise',\n",
       " 'TomHanks']"
      ]
     },
     "execution_count": 5,
     "metadata": {},
     "output_type": "execute_result"
    }
   ],
   "source": [
    "import os\n",
    "from tqdm import tqdm\n",
    "\n",
    "# Paths\n",
    "dataset_root = 'CelebrityFacesDataset_Curated'\n",
    "output_root = 'yolo_dataset'\n",
    "\n",
    "\n",
    "# Build class index\n",
    "celebrity_names = sorted([d for d in os.listdir(dataset_root) if os.path.isdir(os.path.join(dataset_root, d)) and not d.startswith('_')])\n",
    "celebrity_names = sorted([d for d in os.listdir(dataset_root) if os.path.isdir(os.path.join(dataset_root, d)) and d.startswith('_')], reverse=True) + celebrity_names\n",
    "celebrity_names.remove('__NoFace')\n",
    "celebrity_names"
   ]
  },
  {
   "cell_type": "code",
   "execution_count": 6,
   "id": "7482e2f1",
   "metadata": {},
   "outputs": [
    {
     "data": {
      "text/plain": [
       "[(0, '_GenericFace'),\n",
       " (1, 'BradPitt'),\n",
       " (2, 'DenzelWashington'),\n",
       " (3, 'HughJackman'),\n",
       " (4, 'KateWinslet'),\n",
       " (5, 'LeonardoDiCaprio'),\n",
       " (6, 'ScarlettJohansson'),\n",
       " (7, 'TomCruise'),\n",
       " (8, 'TomHanks')]"
      ]
     },
     "execution_count": 6,
     "metadata": {},
     "output_type": "execute_result"
    }
   ],
   "source": [
    "list(enumerate(celebrity_names))"
   ]
  },
  {
   "cell_type": "code",
   "execution_count": null,
   "id": "d1dfab8a",
   "metadata": {},
   "outputs": [],
   "source": []
  }
 ],
 "metadata": {
  "kernelspec": {
   "display_name": "Python 3",
   "language": "python",
   "name": "python3"
  },
  "language_info": {
   "codemirror_mode": {
    "name": "ipython",
    "version": 3
   },
   "file_extension": ".py",
   "mimetype": "text/x-python",
   "name": "python",
   "nbconvert_exporter": "python",
   "pygments_lexer": "ipython3",
   "version": "3.12.6"
  }
 },
 "nbformat": 4,
 "nbformat_minor": 5
}
