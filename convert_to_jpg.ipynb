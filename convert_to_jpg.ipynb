{
 "cells": [
  {
   "cell_type": "code",
   "execution_count": 1,
   "id": "5cf425da",
   "metadata": {},
   "outputs": [],
   "source": [
    "import os\n",
    "from PIL import Image\n",
    "\n",
    "\n",
    "quality = 100                     # JPG quality (1–100)\n",
    "\n",
    "# === CONVERSION FUNCTION ===\n",
    "def convert_image_to_jpg_inplace(image_path):\n",
    "    try:\n",
    "        # Skip if already a .jpg\n",
    "        if image_path.lower().endswith('.jpg'):\n",
    "            return\n",
    "\n",
    "        # Open and convert to RGB\n",
    "        with Image.open(image_path) as img:\n",
    "            rgb = img.convert('RGB')\n",
    "            # New filename with .jpg extension\n",
    "            jpg_path = os.path.splitext(image_path)[0] + '.jpg'\n",
    "            # Save JPG\n",
    "            rgb.save(jpg_path, 'JPEG', quality=quality)\n",
    "        \n",
    "        # Delete the original file\n",
    "        os.remove(image_path)\n",
    "        print(f\"Converted and replaced: {image_path} -> {jpg_path}\")\n",
    "\n",
    "    except Exception as e:\n",
    "        print(f\"Failed to convert {image_path}: {e}\")\n",
    "\n"
   ]
  },
  {
   "cell_type": "code",
   "execution_count": 7,
   "id": "95fe6105",
   "metadata": {},
   "outputs": [
    {
     "name": "stdout",
     "output_type": "stream",
     "text": [
      "In-place conversion complete.\n"
     ]
    }
   ],
   "source": [
    "# === CONFIGURATION ===\n",
    "input_dir = r'C:\\Documents\\CelebrityClassifier\\CelebrityFacesDataset_Curated\\__No Face'  # Change this\n",
    "\n",
    "\n",
    "# === WALK AND CONVERT ===\n",
    "valid_extensions = ('.png', '.bmp')\n",
    "\n",
    "for root, _, files in os.walk(input_dir):\n",
    "    for file in files:\n",
    "        if file.lower().endswith(valid_extensions):\n",
    "            full_path = os.path.join(root, file)\n",
    "            convert_image_to_jpg_inplace(full_path)\n",
    "\n",
    "print(\"In-place conversion complete.\")"
   ]
  },
  {
   "cell_type": "code",
   "execution_count": null,
   "id": "4870f47c",
   "metadata": {},
   "outputs": [],
   "source": []
  }
 ],
 "metadata": {
  "kernelspec": {
   "display_name": "Python 3",
   "language": "python",
   "name": "python3"
  },
  "language_info": {
   "codemirror_mode": {
    "name": "ipython",
    "version": 3
   },
   "file_extension": ".py",
   "mimetype": "text/x-python",
   "name": "python",
   "nbconvert_exporter": "python",
   "pygments_lexer": "ipython3",
   "version": "3.12.6"
  }
 },
 "nbformat": 4,
 "nbformat_minor": 5
}
