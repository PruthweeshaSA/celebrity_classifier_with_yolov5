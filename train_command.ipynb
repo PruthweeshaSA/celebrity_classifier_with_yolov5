{
 "cells": [
  {
   "cell_type": "code",
   "execution_count": null,
   "id": "5e7bee7a",
   "metadata": {},
   "outputs": [],
   "source": []
  },
  {
   "cell_type": "code",
   "execution_count": null,
   "id": "5bd53bbf",
   "metadata": {},
   "outputs": [],
   "source": [
    "import subprocess\n",
    "\n",
    "command = [\n",
    "    \"python3\",\n",
    "    \"-W\", \"ignore\",\n",
    "    \"yolov5/train.py\",\n",
    "    \"--batch-size\", \"16\",\n",
    "    \"--epochs\", \"30\",\n",
    "    \"--data\", \"data.yaml\",\n",
    "    \"--weights\", \"yolov5/yolov5s.pt\",\n",
    "    \"--name\", \"celeb_yolov5s\",\n",
    "    \"--hyp\", \"my_hyp.yaml\"\n",
    "]\n",
    "\n",
    "process = subprocess.Popen(command, stdout=subprocess.PIPE, stderr=subprocess.STDOUT, text=True)\n",
    "\n",
    "for line in process.stdout:\n",
    "    print(line, end='')  # Real-time output\n"
   ]
  },
  {
   "cell_type": "code",
   "execution_count": null,
   "id": "22a3f895",
   "metadata": {},
   "outputs": [],
   "source": []
  }
 ],
 "metadata": {
  "kernelspec": {
   "display_name": "Python 3",
   "language": "python",
   "name": "python3"
  },
  "language_info": {
   "codemirror_mode": {
    "name": "ipython",
    "version": 3
   },
   "file_extension": ".py",
   "mimetype": "text/x-python",
   "name": "python",
   "nbconvert_exporter": "python",
   "pygments_lexer": "ipython3",
   "version": "3.12.6"
  }
 },
 "nbformat": 4,
 "nbformat_minor": 5
}
